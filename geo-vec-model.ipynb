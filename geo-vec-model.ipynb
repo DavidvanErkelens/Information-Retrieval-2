{
 "cells": [
  {
   "cell_type": "markdown",
   "metadata": {},
   "source": [
    "## Geo-Vec Model \n",
    "- basic geo-vec model\n",
    "- auxilliary task models"
   ]
  },
  {
   "cell_type": "markdown",
   "metadata": {},
   "source": [
    "#### Imports:"
   ]
  },
  {
   "cell_type": "code",
   "execution_count": 14,
   "metadata": {
    "collapsed": false
   },
   "outputs": [],
   "source": [
    "import numpy as np\n",
    "import pandas as pd\n",
    "import scipy.sparse as ss\n",
    "\n",
    "import tensorflow as tf\n",
    "\n",
    "import matplotlib.pyplot as plt\n",
    "import matplotlib.patches as mpatches"
   ]
  },
  {
   "cell_type": "markdown",
   "metadata": {},
   "source": [
    "#### Helper Functions"
   ]
  },
  {
   "cell_type": "code",
   "execution_count": 15,
   "metadata": {
    "collapsed": false
   },
   "outputs": [],
   "source": [
    "class Doc2Graph():\n",
    "    \"\"\"Convert tokenized document to weighted Adjacency matrix\n",
    "    and graph Laplacian\"\"\"\n",
    "    def __init__(self, doc, doc_id=-1):\n",
    "        self.doc = doc\n",
    "        self.doc_id = doc_id\n",
    "        \n",
    "    def doc2graph(self):\n",
    "        g = self.load()\n",
    "            \n",
    "        if not g:\n",
    "            As = self.get_As()\n",
    "            Ls = self.get_Ls(As)\n",
    "            g = As + Ls\n",
    "            self.save(g)\n",
    "\n",
    "        return g\n",
    "    \n",
    "    def get_As(self):\n",
    "        \"\"\"Get the weighted adjacency matrices of incoming\n",
    "        and outcoming edges\"\"\"\n",
    "        As = []\n",
    "        e1 = np.vstack((self.doc[:-1], self.doc[1:])).T\n",
    "        e2 = np.flip(e1, 1)\n",
    "        for a in [e2, e1]:\n",
    "            rc, cooc = np.unique(a, return_counts=True, axis=0)\n",
    "            As.append(ss.coo_matrix((cooc, (rc[:,0], rc[:,1])), \n",
    "                                   tuple((np.max(a)+1, np.max(a)+1))))\n",
    "        return As\n",
    "    \n",
    "    def get_Ls(self, As, renorm_trick=True):\n",
    "        \"\"\"Create graph Laplacians from adjacency matrices\"\"\"\n",
    "        Ls = []\n",
    "        for A in As:\n",
    "            A = ss.coo_matrix(A)\n",
    "            if renorm_trick:\n",
    "                A += ss.eye(A.shape[0])\n",
    "            D_inv_sqrt = ss.diags(np.power(np.array(A.sum(1)), -0.5).flatten())\n",
    "            L = A.dot(D_inv_sqrt).transpose().dot(D_inv_sqrt).tocoo()\n",
    "            Ls.append(L)\n",
    "            \n",
    "        return Ls\n",
    "    \n",
    "    def save(self, g):\n",
    "        \"\"\"Save graph to folder for reuse\"\"\"\n",
    "        pass\n",
    "    \n",
    "    def load(self):\n",
    "        return None\n",
    "\n",
    "def sparse_to_tuple(sparse_mx):\n",
    "    if not ss.isspmatrix_coo(sparse_mx):\n",
    "        sparse_mx = sparse_mx.tocoo()\n",
    "    coords = np.vstack((sparse_mx.row, sparse_mx.col)).transpose()\n",
    "    values = sparse_mx.data\n",
    "    shape = sparse_mx.shape\n",
    "    return coords, values, shape\n",
    "\n",
    "def sp2tf(sp_t, shape=None):\n",
    "    t = sparse_to_tuple(sp_t)\n",
    "    if shape:\n",
    "        t = tuple((t[0],t[1],shape))\n",
    "    tensor = tf.SparseTensorValue(t[0],t[1].astype(np.float32),t[2])\n",
    "    return tensor\n",
    "\n",
    "def tfs2sp(tfs):\n",
    "    return ss.coo_matrix((tfs[1], (tfs[0][:,0], tfs[0][:,1])), tfs[2])\n",
    "    \n",
    "def dropout_sparse(x, keep_prob, num_nonzero_elems):\n",
    "    \"\"\"Dropout for sparse tensors. Currently fails for very large sparse tensors (>1M elements)\n",
    "    \"\"\"\n",
    "    noise_shape = [num_nonzero_elems]\n",
    "    random_tensor = keep_prob\n",
    "    random_tensor += tf.random_uniform(noise_shape)\n",
    "    dropout_mask = tf.cast(tf.floor(random_tensor), dtype=tf.bool)\n",
    "    pre_out = tf.sparse_retain(x, dropout_mask)\n",
    "    return pre_out * (1./keep_prob)"
   ]
  },
  {
   "cell_type": "markdown",
   "metadata": {},
   "source": [
    "#### Geo-Vec"
   ]
  },
  {
   "cell_type": "code",
   "execution_count": 28,
   "metadata": {
    "collapsed": false
   },
   "outputs": [],
   "source": [
    "class GeoVec():\n",
    "    def __init__(self, corpus=None, vocab_size=10, h_layers = [8, 4], \n",
    "                 act = tf.nn.relu, dropout=0.0, learning_rate = 1e-3):\n",
    "        \"\"\"Geo-Vec model as described in the report model section.\"\"\"\n",
    "        \n",
    "        self.corpus = corpus\n",
    "        self.vocab_size = vocab_size\n",
    "        self.h_layers = h_layers\n",
    "        self.act = act\n",
    "        self.dropout = dropout\n",
    "        self.learning_rate = learning_rate\n",
    "        \n",
    "        # use for plotting\n",
    "        self._loss_vals, self._acc_vals = [], []\n",
    "        \n",
    "        #placeholders\n",
    "        s = [self.vocab_size, self.vocab_size]\n",
    "        self.placeholders = {\n",
    "            'A_o': tf.sparse_placeholder(tf.float32),\n",
    "            'L_o': tf.sparse_placeholder(tf.float32),\n",
    "            'A_i': tf.sparse_placeholder(tf.float32),\n",
    "            'L_i': tf.sparse_placeholder(tf.float32),\n",
    "            'idx_o': tf.placeholder(tf.int32),\n",
    "            'idx_i': tf.placeholder(tf.int32),\n",
    "            'val_o' : tf.placeholder(tf.float32),\n",
    "            'val_i' : tf.placeholder(tf.float32),\n",
    "            'dropout': tf.placeholder_with_default(0., shape=())\n",
    "        }\n",
    "        \n",
    "        # model\n",
    "        self.aux_losses = None\n",
    "        dummy = sp2tf(ss.eye(self.vocab_size))\n",
    "        self.init_model(x=dummy)\n",
    "\n",
    "        #optimizer\n",
    "        self.sample_mesh = np.mgrid[0:self.vocab_size,0:self.vocab_size].reshape(2,-1).T\n",
    "        self.init_optimizer()\n",
    "        \n",
    "        #sess\n",
    "        self.trained = 0\n",
    "        self.sess = tf.Session()\n",
    "        self.sess.run(tf.global_variables_initializer())\n",
    "        \n",
    "    def init_model(self, x, num_topics = 10, aux_tasks = None):\n",
    "        \"\"\"geo-vec model with variable number of gcn layers. Optional aux_taks\n",
    "        param is now unimplemented to specify which tasks to add. All aux losses\n",
    "        should be gathered in a self.aux_losses variable to gather later on.\"\"\"\n",
    "        for i, h_layer in enumerate(self.h_layers):\n",
    "            if i == 0:\n",
    "                h = self.gcn(x, self.vocab_size, self.h_layers[0], self.act, layer=i,sparse=True)  \n",
    "            elif (i+1) < len(self.h_layers):\n",
    "                h = self.gcn(h, self.h_layers[i-1], h_layer, self.act, layer=i, )\n",
    "        else:\n",
    "            self.emb_o, self.emb_i = self.gcn(h, self.h_layers[i-1], \n",
    "                                         h_layer, act=lambda x: x, layer=-1,separate=True)\n",
    "        \n",
    "        # here we can left multiply the last layer h\n",
    "        # and perform auxilliary tasks.\n",
    "#         w_a = tf.get_variable('w_a', shape=[num_topics, self.vocab_size], \n",
    "#                              initializer=tf.truncated_normal_initializer(0.,1e-3))\n",
    "#         z_n = tf.matmul(w_a, h) ---> use for aux tasks\n",
    "\n",
    "        self.recon_o = self.decode(self.emb_o, rbf=False)\n",
    "        self.recon_i = self.decode(self.emb_i, rbf=False)\n",
    "    \n",
    "    def gcn(self, x, dim_in, dim_out, act, layer, sparse=False, separate=False):\n",
    "        \"\"\"basic graph convolution using a split up adjacency matrix.\n",
    "        The separation param is to create the final embeddings to reconstruct.\"\"\"\n",
    "        w1 = tf.get_variable('w1_{}'.format(layer), shape=[dim_in, dim_out], \n",
    "                             initializer=tf.contrib.layers.xavier_initializer())\n",
    "        w2 = tf.get_variable('w2_{}'.format(layer), shape=[dim_in, dim_out], \n",
    "                             initializer=tf.contrib.layers.xavier_initializer())\n",
    "        if sparse:\n",
    "            x1 = tf.sparse_tensor_dense_matmul(x, w1)\n",
    "            x2 = tf.sparse_tensor_dense_matmul(x, w2)\n",
    "        else:\n",
    "            x1 = tf.matmul(x, w1)\n",
    "            x2 = tf.matmul(x, w2)\n",
    "            \n",
    "        x1 = tf.sparse_tensor_dense_matmul(self.placeholders['L_o'], x1)\n",
    "        x2 = tf.sparse_tensor_dense_matmul(self.placeholders['L_i'], x2)\n",
    "        \n",
    "        if separate:\n",
    "            return self.act(x1), self.act(x2)\n",
    "        \n",
    "        return self.act(x1 + x2)\n",
    "    \n",
    "    def decode(self, x, rbf=False):\n",
    "        \"\"\"simple innerproduct decoder with positive activation to scale\n",
    "        the edged between 0-> (assuming more co-occurances are unlikely).\"\"\"\n",
    "        if rbf:\n",
    "            return self.decode_RBF(x)\n",
    "        x = tf.nn.dropout(x, 1-self.dropout)\n",
    "        x = tf.reshape(tf.matmul(x, tf.transpose(x)), [-1])\n",
    "        return tf.nn.relu(x)\n",
    "      \n",
    "    # not working yet, alternative to innerproduct decoder\n",
    "    def decode_RBF(self, x):\n",
    "        \"\"\"RBF decoder\"\"\"\n",
    "        dim = tf.shape(x)[0]\n",
    "        x2 = tf.reshape(tf.tile(tf.square(tf.norm(x, axis=1)), [dim]), [dim, dim])\n",
    "        pairwise_dist2 = x2 + tf.transpose(x2) - 2*tf.matmul(x, tf.transpose(x))\n",
    "        x = tf.exp(-pairwise_dist2/(2.*(0.5**2)))\n",
    "        x = tf.reshape(x, [-1])\n",
    "        return tf.nn.softmax(x)\n",
    "        \n",
    "    def init_optimizer(self):\n",
    "        \"\"\"initializes optimizer and computes loss + accuracy. The loss function\n",
    "        is currently a MSE, due to the fact we are dealing with weighted edges.\n",
    "        This does not seem ideal, and should be thought about.\"\"\"\n",
    "#         labels_o = tf.reshape(tf.sparse_tensor_to_dense(\n",
    "#                                 self.placeholders['A_o'], validate_indices=False), [-1])\n",
    "#         labels_i = tf.reshape(tf.sparse_tensor_to_dense(\n",
    "#                                 self.placeholders['A_i'], validate_indices=False), [-1])\n",
    "#         loss_o = tf.losses.mean_squared_error(self.recon_o, labels_o, \n",
    "#                                               weights = self.get_weights(labels_o))\n",
    "#         loss_i = tf.losses.mean_squared_error(self.recon_i, labels_i, \n",
    "#                                               weights = self.get_weights(labels_i)) \n",
    "#         self.loss = loss_o + loss_i\n",
    "        \n",
    "        emb_or = tf.gather(self.emb_o, self.placeholders['idx_o'][:, 0])\n",
    "        emb_oc = tf.gather(self.emb_o, self.placeholders['idx_o'][:, 1])\n",
    "        emb_ir = tf.gather(self.emb_i, self.placeholders['idx_i'][:, 0])\n",
    "        emb_ic = tf.gather(self.emb_i, self.placeholders['idx_i'][:, 1])\n",
    "        \n",
    "        pred_o = tf.reduce_sum(tf.multiply(emb_or, emb_oc), 1)\n",
    "        pred_i = tf.reduce_sum(tf.multiply(emb_ir, emb_ic), 1)\n",
    "        \n",
    "        loss_o = tf.losses.mean_squared_error(pred_o, self.placeholders['val_o'])\n",
    "        loss_i = tf.losses.mean_squared_error(pred_i, self.placeholders['val_i']) \n",
    "        self.loss = loss_o + loss_i\n",
    "        \n",
    "        # gather aux losses and add to total loss\n",
    "        if self.aux_losses:\n",
    "            self.loss += self.aux_losses\n",
    "        \n",
    "        # optimizer\n",
    "        optimizer = tf.train.AdamOptimizer(learning_rate=self.learning_rate)\n",
    "        self.opt_op = optimizer.minimize(self.loss)\n",
    "\n",
    "        # accuracy\n",
    "        cp_o = tf.equal(tf.cast(pred_o, tf.int32), tf.cast(self.placeholders['val_o'], tf.int32))\n",
    "        cp_i = tf.equal(tf.cast(pred_i, tf.int32), tf.cast(self.placeholders['val_i'], tf.int32))\n",
    "        correct_prediction = tf.concat([cp_o, cp_i], 0)\n",
    "        self.accuracy = tf.reduce_mean(tf.cast(correct_prediction, tf.float32))\n",
    "    \n",
    "#     def get_weights(self, labels):\n",
    "#         \"\"\"Compute positive and negative example weights\"\"\"\n",
    "#         pos_sum = tf.reduce_sum(labels)\n",
    "#         pos_weight = (self.vocab_size**2 - pos_sum) / pos_sum\n",
    "#         thresh = tf.fill(tf.shape(labels), 1.)\n",
    "#         x = tf.fill(tf.shape(labels), 0.001)\n",
    "#         y = tf.fill(tf.shape(labels), pos_weight)\n",
    "#         return tf.where(tf.less(labels, thresh), x, y)\n",
    "    \n",
    "    def get_feed_dict(self, A_o, A_i, L_o, L_i, idx_o, idx_i, val_i, val_o):\n",
    "        feed_dict = {self.placeholders['A_o']: A_o,\n",
    "                     self.placeholders['A_i']: A_i,\n",
    "                     self.placeholders['L_o']: L_o,\n",
    "                     self.placeholders['L_i']: L_i,\n",
    "                     self.placeholders['idx_o'] : idx_o,\n",
    "                     self.placeholders['idx_i'] : idx_i,\n",
    "                     self.placeholders['val_o'] : val_o,\n",
    "                     self.placeholders['val_i'] : val_i}\n",
    "        return feed_dict\n",
    "    \n",
    "    def get_sample(self, batch_size=64, ratio=1.):\n",
    "        \"\"\"get random sample from corpus graph cache\"\"\"\n",
    "        dummy = Doc2Graph(fake_doc).doc2graph()\n",
    "        \n",
    "        # sample positive examples\n",
    "        pos_idx_o = np.random.choice(range(len(dummy[0].row)), batch_size)\n",
    "        pos_idx_i = np.random.choice(range(len(dummy[1].row)), batch_size)\n",
    "        idx_o = np.array(list(zip(dummy[0].row, dummy[0].col)))[pos_idx_o, :]\n",
    "        idx_i = np.array(list(zip(dummy[1].row, dummy[1].col)))[pos_idx_i, :]\n",
    "        \n",
    "        val_o = dummy[0].data[pos_idx_o]\n",
    "        val_i = dummy[1].data[pos_idx_i]\n",
    "        \n",
    "        # separately generate negative samples\n",
    "        neg_o = np.random.randint(self.vocab_size, size=[int(batch_size*ratio), 2])\n",
    "        neg_i = np.random.randint(self.vocab_size, size=[int(batch_size*ratio), 2])\n",
    "        \n",
    "        # concat\n",
    "        val_o = np.hstack((val_o, np.zeros(int(batch_size*ratio))))\n",
    "        val_i = np.hstack((val_i, np.zeros(int(batch_size*ratio))))\n",
    "        idx_o = np.vstack((idx_o, neg_o))\n",
    "        idx_i = np.vstack((idx_i, neg_i))\n",
    "        \n",
    "        for i, d in enumerate(dummy):\n",
    "            dummy[i] = sp2tf(d, tuple((self.vocab_size, self.vocab_size)))\n",
    "        return dummy, idx_o, idx_i, val_o, val_i\n",
    "    \n",
    "    def train(self, num_epochs = 100, print_freq=50):\n",
    "        \"\"\"train op that can be invoked multiple times.\"\"\"\n",
    "        tf.set_random_seed(42)\n",
    "        np.random.seed(42)\n",
    "\n",
    "        for e in range(num_epochs):\n",
    "            self.trained += 1\n",
    "            (A_o, A_i, L_o, L_i), idx_o, idx_i, val_o, val_i = self.get_sample()\n",
    "            feed_dict = self.get_feed_dict(A_o, A_i, L_o, L_i, idx_o, idx_i, val_o, val_i)\n",
    "    \n",
    "            outs = self.sess.run([self.opt_op, self.loss, self.accuracy], feed_dict=feed_dict)\n",
    "            avg_loss, avg_acc = outs[1], outs[2]\n",
    "            self._loss_vals.append(avg_loss)\n",
    "            self._acc_vals.append(avg_acc)\n",
    "            \n",
    "            print('\\r epoch: %d/%d \\t loss: %.3f \\t avg_acc: %.3f' \n",
    "                      % (e+1, num_epochs, avg_loss, avg_acc), end='')\n",
    "            if (e + 1) % print_freq == 0:\n",
    "                print('')\n",
    "        else:\n",
    "            print('----> done training: {} epochs'.format(self.trained))\n",
    "        \n",
    "    def plot(self):\n",
    "        \"\"\"Plotting loss function\"\"\"\n",
    "        plt.figure(figsize=(12, 6))\n",
    "        plt.plot(self._loss_vals, color='red')\n",
    "        plt.plot(self._acc_vals, color='blue')\n",
    "        \n",
    "        plt.legend(handles=[mpatches.Patch(color='red', label='loss'),\n",
    "                            mpatches.Patch(color='blue', label='acc')],\n",
    "                   bbox_to_anchor=(1.05, 1), loc=2, borderaxespad=0.)\n",
    "        plt.show()\n",
    "        \n",
    "    def get_reconstruction(self, doc = None):\n",
    "        if doc:\n",
    "            A_o, A_i, L_o, L_i = Doc2Graph(doc, doc_id).doc2graph()\n",
    "        else:\n",
    "            (A_o, A_i, L_o, L_i), idx_o, idx_i, val_o, val_i = self.get_sample()\n",
    "            \n",
    "        feed_dict = self.get_feed_dict(A_o, A_i, L_o, L_i, idx_o, idx_i, val_o, val_i)\n",
    "        recon_o, recon_i = self.sess.run([self.recon_o, self.recon_i], feed_dict=feed_dict)\n",
    "        return A_o, A_i, recon_o, recon_i\n",
    "    \n",
    "    def get_embeddings(self, doc = None, doc_id = None):\n",
    "        if doc:\n",
    "            A_o, A_i, L_o, L_i = Doc2Graph(doc, doc_id).doc2graph()\n",
    "        else:\n",
    "            A_o, A_i, L_o, L_i = self.get_sample()\n",
    "            \n",
    "        feed_dict = self.get_feed_dict(A_o, A_i, L_o, L_i)\n",
    "        emb_o, emb_i = self.sess.run([self.em_o, self.emb_i], feed_dict=feed_dict)\n",
    "        return A_o, A_i, emb_o, emb_i"
   ]
  },
  {
   "cell_type": "code",
   "execution_count": 44,
   "metadata": {
    "collapsed": false
   },
   "outputs": [
    {
     "name": "stderr",
     "output_type": "stream",
     "text": [
      "//anaconda/envs/pytorch3/lib/python3.6/site-packages/tensorflow/python/ops/gradients_impl.py:95: UserWarning: Converting sparse IndexedSlices to a dense Tensor of unknown shape. This may consume a large amount of memory.\n",
      "  \"Converting sparse IndexedSlices to a dense Tensor of unknown shape. \"\n"
     ]
    },
    {
     "name": "stdout",
     "output_type": "stream",
     "text": [
      " epoch: 300/2500 \t loss: 1.572 \t avg_acc: 0.000\n",
      " epoch: 600/2500 \t loss: 1.390 \t avg_acc: 0.000\n",
      " epoch: 900/2500 \t loss: 1.179 \t avg_acc: 0.000\n",
      " epoch: 1200/2500 \t loss: 0.977 \t avg_acc: 0.078\n",
      " epoch: 1500/2500 \t loss: 0.778 \t avg_acc: 0.102\n",
      " epoch: 1800/2500 \t loss: 0.531 \t avg_acc: 0.070\n",
      " epoch: 2100/2500 \t loss: 0.344 \t avg_acc: 0.109\n",
      " epoch: 2400/2500 \t loss: 0.161 \t avg_acc: 0.094\n",
      " epoch: 2500/2500 \t loss: 0.135 \t avg_acc: 0.141----> done training: 2500 epochs\n"
     ]
    }
   ],
   "source": [
    "tf.reset_default_graph()\n",
    "fake_doc = np.asarray([1, 0, 1, 2, 1, 4])\n",
    "geo_vec_model = GeoVec(vocab_size=5, h_layers = [4,2], learning_rate = 1e-4)\n",
    "geo_vec_model.get_sample()\n",
    "geo_vec_model.train(2500, 300)"
   ]
  },
  {
   "cell_type": "code",
   "execution_count": 45,
   "metadata": {
    "collapsed": false
   },
   "outputs": [
    {
     "name": "stdout",
     "output_type": "stream",
     "text": [
      " epoch: 300/2500 \t loss: 0.058 \t avg_acc: 0.055\n",
      " epoch: 600/2500 \t loss: 0.036 \t avg_acc: 0.344\n",
      " epoch: 900/2500 \t loss: 0.031 \t avg_acc: 0.328\n",
      " epoch: 1200/2500 \t loss: 0.025 \t avg_acc: 0.320\n",
      " epoch: 1500/2500 \t loss: 0.022 \t avg_acc: 0.297\n",
      " epoch: 1800/2500 \t loss: 0.018 \t avg_acc: 0.477\n",
      " epoch: 2100/2500 \t loss: 0.014 \t avg_acc: 0.547\n",
      " epoch: 2400/2500 \t loss: 0.012 \t avg_acc: 0.531\n",
      " epoch: 2500/2500 \t loss: 0.011 \t avg_acc: 0.578----> done training: 5000 epochs\n"
     ]
    },
    {
     "data": {
      "image/png": "[encoded data removed]",
      "text/plain": [
       "<matplotlib.figure.Figure at 0x122dcbcf8>"
      ]
     },
     "metadata": {},
     "output_type": "display_data"
    }
   ],
   "source": [
    "geo_vec_model.train(2500, 300)\n",
    "geo_vec_model.plot()"
   ]
  },
  {
   "cell_type": "code",
   "execution_count": 46,
   "metadata": {
    "collapsed": false
   },
   "outputs": [],
   "source": [
    "a1, a2, r1, r2 = geo_vec_model.get_reconstruction()"
   ]
  },
  {
   "cell_type": "code",
   "execution_count": 56,
   "metadata": {
    "collapsed": false
   },
   "outputs": [
    {
     "data": {
      "text/plain": [
       "array([[ 0.,  1.,  0.,  0.,  0.],\n",
       "       [ 1.,  0.,  1.,  0.,  0.],\n",
       "       [ 0.,  1.,  0.,  0.,  0.],\n",
       "       [ 0.,  0.,  0.,  0.,  0.],\n",
       "       [ 0.,  1.,  0.,  0.,  0.]], dtype=float32)"
      ]
     },
     "execution_count": 56,
     "metadata": {},
     "output_type": "execute_result"
    }
   ],
   "source": [
    "tfs2sp(a1).A"
   ]
  },
  {
   "cell_type": "code",
   "execution_count": 57,
   "metadata": {
    "collapsed": false
   },
   "outputs": [
    {
     "data": {
      "text/plain": [
       "matrix([[-0.39296556,  1.0933392 ,  0.51950735,  0.        ,  0.53166515],\n",
       "        [ 1.0933392 ,  0.96923029,  0.93569285,  0.        ,  0.9575904 ],\n",
       "        [ 0.51950735,  0.93569285, -0.55539936,  0.        ,  0.45500544],\n",
       "        [ 0.        ,  0.        ,  0.        , -1.        ,  0.        ],\n",
       "        [ 0.53166515,  0.9575904 ,  0.45500544,  0.        , -0.53434628]])"
      ]
     },
     "execution_count": 57,
     "metadata": {},
     "output_type": "execute_result"
    }
   ],
   "source": [
    "np.reshape(r1, (geo_vec_model.vocab_size,-1)) -ss.eye(5)"
   ]
  },
  {
   "cell_type": "code",
   "execution_count": null,
   "metadata": {
    "collapsed": false
   },
   "outputs": [],
   "source": [
    "sess = tf.InteractiveSession()\n",
    "sp = tf.sparse_slice(a1,[0,1], [1,1])\n",
    "print(sp.eval())\n",
    "sess.close()\n",
    "sp.values"
   ]
  },
  {
   "cell_type": "code",
   "execution_count": null,
   "metadata": {
    "collapsed": false
   },
   "outputs": [],
   "source": [
    "t = 1.0 / tf.constant([[1., 1., 1., 1., 1.],\n",
    "                 [1., 1., 1., 1., 1.],\n",
    "                 [1., 1., 1., 1., 1.],\n",
    "                 [1., 1., 1., 1., 1.],\n",
    "                 [1., 1., 1., 1., 1.]])\n",
    "sp.__div__(t)"
   ]
  },
  {
   "cell_type": "code",
   "execution_count": null,
   "metadata": {
    "collapsed": true
   },
   "outputs": [],
   "source": [
    "aa, a2, l1, l2 = Doc2Graph(fake_doc).doc2graph()"
   ]
  },
  {
   "cell_type": "code",
   "execution_count": null,
   "metadata": {
    "collapsed": false
   },
   "outputs": [],
   "source": [
    "a1.indices"
   ]
  },
  {
   "cell_type": "code",
   "execution_count": null,
   "metadata": {
    "collapsed": true
   },
   "outputs": [],
   "source": [
    "pos_idx = a1.indices[np.random.choice(np.arange(np.shape(a1)[0]), size=[]) ]"
   ]
  },
  {
   "cell_type": "code",
   "execution_count": null,
   "metadata": {
    "collapsed": false
   },
   "outputs": [],
   "source": [
    "pos_idx = a1.indices[np.random.randint(np.shape(a1.indices)[0], size=[4,1])].squeeze()\n",
    "neg_idx = np.random.randint(10, size=[4,1])"
   ]
  },
  {
   "cell_type": "code",
   "execution_count": null,
   "metadata": {
    "collapsed": false
   },
   "outputs": [],
   "source": [
    "pos_idx"
   ]
  },
  {
   "cell_type": "code",
   "execution_count": null,
   "metadata": {
    "collapsed": false
   },
   "outputs": [],
   "source": [
    "a = np.array([1,2,3])\n",
    "b = np.array([1, 2])\n",
    "np.vstack(np.meshgrid(a, a)).reshape(2, -1).T"
   ]
  },
  {
   "cell_type": "code",
   "execution_count": 11,
   "metadata": {
    "collapsed": false
   },
   "outputs": [
    {
     "name": "stdout",
     "output_type": "stream",
     "text": [
      "[[1 2 3]\n",
      " [1 1 1]\n",
      " [1 2 3]]\n"
     ]
    },
    {
     "data": {
      "text/plain": [
       "array([ 2.,  1.])"
      ]
     },
     "execution_count": 11,
     "metadata": {},
     "output_type": "execute_result"
    }
   ],
   "source": [
    "c = np.array([[1, 2, 3],[1, 1, 1],[1, 2, 3]])\n",
    "ss = np.array([[1,0],[1,1]])\n",
    "c1 = c[ss[:,0]]\n",
    "c2 = c[ss[:,1]]\n",
    "print(c)\n",
    "np.mean(np.multiply(c1, c2), axis=1).T"
   ]
  },
  {
   "cell_type": "code",
   "execution_count": null,
   "metadata": {
    "collapsed": true
   },
   "outputs": [],
   "source": []
  }
 ],
 "metadata": {
  "kernelspec": {
   "display_name": "Python [conda env:pytorch3]",
   "language": "python",
   "name": "conda-env-pytorch3-py"
  },
  "language_info": {
   "codemirror_mode": {
    "name": "ipython",
    "version": 3
   },
   "file_extension": ".py",
   "mimetype": "text/x-python",
   "name": "python",
   "nbconvert_exporter": "python",
   "pygments_lexer": "ipython3",
   "version": "3.6.1"
  }
 },
 "nbformat": 4,
 "nbformat_minor": 2
}
