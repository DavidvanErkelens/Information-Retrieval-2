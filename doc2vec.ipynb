{
 "cells": [
  {
   "cell_type": "code",
   "execution_count": 1,
   "metadata": {
    "collapsed": true
   },
   "outputs": [],
   "source": [
    "from doc2vec import Doc2Vec\n",
    "import numpy as np"
   ]
  },
  {
   "cell_type": "markdown",
   "metadata": {},
   "source": [
    "### Load Reuters data"
   ]
  },
  {
   "cell_type": "code",
   "execution_count": 2,
   "metadata": {},
   "outputs": [],
   "source": [
    "word2id = np.load('data/reuters/reuters_word2id.npy').item(0)\n",
    "id2word = np.load('data/reuters/reuters_id2word.npy').item(0)\n",
    "tokenized = np.load('data/reuters/reuters_tokenized.npy')\n",
    "docs = [[id2word[word_id] for word_id in doc] for doc in tokenized]"
   ]
  },
  {
   "cell_type": "markdown",
   "metadata": {},
   "source": [
    "### Init Doc2Vec model"
   ]
  },
  {
   "cell_type": "code",
   "execution_count": null,
   "metadata": {},
   "outputs": [],
   "source": [
    "doc2vec = Doc2Vec(vocabulary_size=60000, document_size=21000)"
   ]
  },
  {
   "cell_type": "markdown",
   "metadata": {},
   "source": [
    "### Fit documents to model"
   ]
  },
  {
   "cell_type": "code",
   "execution_count": null,
   "metadata": {
    "scrolled": false
   },
   "outputs": [
    {
     "name": "stdout",
     "output_type": "stream",
     "text": [
      "Building dictionary\n",
      "vocab size:  59576\n",
      "doc size:    20578\n",
      "Initialized\n",
      "Average loss at step 0: 307.113861\n",
      "Average loss at step 2000: 268.504996\n",
      "Average loss at step 4000: 146.992388\n",
      "Average loss at step 6000: 107.605375\n",
      "Average loss at step 8000: 88.790577\n",
      "Average loss at step 10000: 73.688384\n",
      "Average loss at step 12000: 65.588068\n",
      "Average loss at step 14000: 74.132314\n",
      "Average loss at step 16000: 51.539436\n",
      "Average loss at step 18000: 49.586868\n",
      "Average loss at step 20000: 43.187461\n",
      "Average loss at step 22000: 36.416340\n",
      "Average loss at step 24000: 31.834820\n",
      "Average loss at step 26000: 29.502952\n",
      "Average loss at step 28000: 27.483882\n",
      "Average loss at step 30000: 27.775099\n",
      "Average loss at step 32000: 31.767761\n",
      "Average loss at step 34000: 24.695657\n",
      "Average loss at step 36000: 25.498940\n",
      "Average loss at step 38000: 19.577735\n",
      "Average loss at step 40000: 16.043557\n",
      "Average loss at step 42000: 14.603270\n",
      "Average loss at step 44000: 14.145684\n",
      "Average loss at step 46000: 13.665582\n",
      "Average loss at step 48000: 13.068816\n",
      "Average loss at step 50000: 15.270204\n",
      "Average loss at step 52000: 12.677935\n",
      "Average loss at step 54000: 13.396889\n"
     ]
    }
   ],
   "source": [
    "doc2vec.fit(docs)"
   ]
  },
  {
   "cell_type": "code",
   "execution_count": null,
   "metadata": {
    "collapsed": true
   },
   "outputs": [],
   "source": []
  }
 ],
 "metadata": {
  "kernelspec": {
   "display_name": "Python 3",
   "language": "python",
   "name": "python3"
  },
  "language_info": {
   "codemirror_mode": {
    "name": "ipython",
    "version": 3
   },
   "file_extension": ".py",
   "mimetype": "text/x-python",
   "name": "python",
   "nbconvert_exporter": "python",
   "pygments_lexer": "ipython3",
   "version": "3.6.3"
  }
 },
 "nbformat": 4,
 "nbformat_minor": 2
}
