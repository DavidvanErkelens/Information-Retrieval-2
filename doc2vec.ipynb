{
 "cells": [
  {
   "cell_type": "code",
   "execution_count": 1,
   "metadata": {
    "collapsed": true
   },
   "outputs": [],
   "source": [
    "from doc2vec import Doc2Vec\n",
    "import numpy as np"
   ]
  },
  {
   "cell_type": "markdown",
   "metadata": {},
   "source": [
    "### Load Reuters data"
   ]
  },
  {
   "cell_type": "code",
   "execution_count": 2,
   "metadata": {
    "collapsed": true
   },
   "outputs": [],
   "source": [
    "word2id = np.load('data/reuters/reuters_word2id.npy').item(0)\n",
    "id2word = np.load('data/reuters/reuters_id2word.npy').item(0)\n",
    "tokenized = np.load('data/reuters/reuters_tokenized.npy')\n",
    "docs = [[id2word[word_id] for word_id in doc] for doc in tokenized]"
   ]
  },
  {
   "cell_type": "markdown",
   "metadata": {},
   "source": [
    "### Init Doc2Vec model"
   ]
  },
  {
   "cell_type": "code",
   "execution_count": 3,
   "metadata": {
    "collapsed": true
   },
   "outputs": [],
   "source": [
    "doc2vec = Doc2Vec(vocabulary_size=60000, document_size=21000)"
   ]
  },
  {
   "cell_type": "markdown",
   "metadata": {},
   "source": [
    "### Fit documents to model"
   ]
  },
  {
   "cell_type": "code",
   "execution_count": 4,
   "metadata": {
    "scrolled": false
   },
   "outputs": [
    {
     "name": "stdout",
     "output_type": "stream",
     "text": [
      "Building dictionary\n",
      "vocab size:  59576\n",
      "doc size:    20578\n",
      "Initialized\n",
      "Average loss at step 0: 272.063080\n",
      "Average loss at step 2000: 256.683530\n",
      "Average loss at step 4000: 137.554438\n",
      "Average loss at step 6000: 100.117355\n",
      "Average loss at step 8000: 80.088314\n",
      "Average loss at step 10000: 65.832806\n",
      "Average loss at step 12000: 58.484190\n",
      "Average loss at step 14000: 65.406929\n",
      "Average loss at step 16000: 46.209602\n",
      "Average loss at step 18000: 44.466346\n",
      "Average loss at step 20000: 37.813791\n",
      "Average loss at step 22000: 31.537855\n",
      "Average loss at step 24000: 26.922770\n",
      "Average loss at step 26000: 26.149305\n",
      "Average loss at step 28000: 24.027114\n",
      "Average loss at step 30000: 23.387355\n",
      "Average loss at step 32000: 27.630207\n",
      "Average loss at step 34000: 21.590782\n",
      "Average loss at step 36000: 22.255732\n",
      "Average loss at step 38000: 17.037171\n",
      "Average loss at step 40000: 13.901896\n",
      "Average loss at step 42000: 12.334020\n",
      "Average loss at step 44000: 11.884751\n",
      "Average loss at step 46000: 11.542144\n",
      "Average loss at step 48000: 11.148627\n",
      "Average loss at step 50000: 12.558235\n",
      "Average loss at step 52000: 10.622104\n",
      "Average loss at step 54000: 11.173574\n",
      "Average loss at step 56000: 9.038173\n",
      "Average loss at step 58000: 7.416324\n",
      "Average loss at step 60000: 6.929863\n",
      "Average loss at step 62000: 6.748767\n",
      "Average loss at step 64000: 6.522365\n",
      "Average loss at step 66000: 6.496236\n",
      "Average loss at step 68000: 6.998062\n",
      "Average loss at step 70000: 6.432511\n",
      "Average loss at step 72000: 6.682858\n",
      "Average loss at step 74000: 5.672618\n",
      "Average loss at step 76000: 5.062999\n",
      "Average loss at step 78000: 4.880934\n",
      "Average loss at step 80000: 4.860582\n",
      "Average loss at step 82000: 4.828457\n",
      "Average loss at step 84000: 4.774233\n",
      "Average loss at step 86000: 5.015572\n",
      "Average loss at step 88000: 4.792258\n",
      "Average loss at step 90000: 4.888089\n",
      "Average loss at step 92000: 4.345198\n",
      "Average loss at step 94000: 3.987602\n",
      "Average loss at step 96000: 3.941082\n",
      "Average loss at step 98000: 3.984506\n",
      "Average loss at step 100000: 3.980824\n"
     ]
    },
    {
     "data": {
      "text/plain": [
       "Doc2Vec(architecture='pvdm', batch_size=128, concat=True, document_size=21000,\n",
       "    embedding_size_d=128, embedding_size_w=128, learning_rate=1.0,\n",
       "    loss_type='nce_loss', n_neg_samples=64, n_steps=100001,\n",
       "    optimize='Adagrad', vocabulary_size=60000, window_size=8)"
      ]
     },
     "execution_count": 4,
     "metadata": {},
     "output_type": "execute_result"
    }
   ],
   "source": [
    "doc2vec.fit(docs)"
   ]
  },
  {
   "cell_type": "code",
   "execution_count": null,
   "metadata": {
    "collapsed": true
   },
   "outputs": [],
   "source": []
  }
 ],
 "metadata": {
  "kernelspec": {
   "display_name": "Python 3",
   "language": "python",
   "name": "python3"
  },
  "language_info": {
   "codemirror_mode": {
    "name": "ipython",
    "version": 3
   },
   "file_extension": ".py",
   "mimetype": "text/x-python",
   "name": "python",
   "nbconvert_exporter": "python",
   "pygments_lexer": "ipython3",
   "version": "3.6.3"
  }
 },
 "nbformat": 4,
 "nbformat_minor": 2
}
