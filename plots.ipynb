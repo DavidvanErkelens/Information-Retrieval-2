{
 "cells": [
  {
   "cell_type": "code",
   "execution_count": 269,
   "metadata": {
    "collapsed": true
   },
   "outputs": [],
   "source": [
    "import numpy as np\n",
    "import scipy as sp\n",
    "import scipy.sparse as ss\n",
    "import seaborn as sns\n",
    "import matplotlib.pyplot as plt\n",
    "\n",
    "from par2vec.common import *"
   ]
  },
  {
   "cell_type": "markdown",
   "metadata": {},
   "source": [
    "### Load Reuters"
   ]
  },
  {
   "cell_type": "code",
   "execution_count": 270,
   "metadata": {
    "collapsed": true
   },
   "outputs": [],
   "source": [
    "# Load tokenized reuters\n",
    "topic2id = np.load('data/reuters/reuters_topic2id.npy').item(0)\n",
    "id2topic = np.load('data/reuters/reuters_id2topic.npy').item(0)\n",
    "topics = list(np.load('data/reuters/reuters_topics.npy'))\n",
    "\n",
    "word2id = np.load('data/reuters/reuters_word2id.npy').item(0)\n",
    "id2word = np.load('data/reuters/reuters_id2word.npy').item(0)\n",
    "tokenized = list(np.load('data/reuters/reuters_tokenized.npy'))"
   ]
  },
  {
   "cell_type": "code",
   "execution_count": null,
   "metadata": {
    "collapsed": true
   },
   "outputs": [],
   "source": [
    "len(word2id)"
   ]
  },
  {
   "cell_type": "code",
   "execution_count": 234,
   "metadata": {
    "collapsed": true
   },
   "outputs": [],
   "source": [
    "# Load tokenized 20_newsgroup\n",
    "topic2id = np.load('data/20_newsgroup/20newsgroup_topic2id.npy').item(0)\n",
    "id2topic = np.load('data/20_newsgroup/20newsgroup_id2topic.npy').item(0)\n",
    "topics = list(np.load('data/20_newsgroup/20newsgroup_topics.npy'))\n",
    "\n",
    "word2id = np.load('data/20_newsgroup/20newsgroup_word2id.npy').item(0)\n",
    "id2word = np.load('data/20_newsgroup/20newsgroup_id2word.npy').item(0)\n",
    "tokenized = list(np.load('data/20_newsgroup/20newsgroup_tokenized.npy'))"
   ]
  },
  {
   "cell_type": "code",
   "execution_count": 250,
   "metadata": {},
   "outputs": [
    {
     "name": "stdout",
     "output_type": "stream",
     "text": [
      "Unique words:  59576\n",
      "Unique docs:   20578\n"
     ]
    }
   ],
   "source": [
    "print('Unique words: ', len(word2id))\n",
    "print('Unique docs:  ', len(tokenized))"
   ]
  },
  {
   "cell_type": "markdown",
   "metadata": {},
   "source": [
    "### Compute document graphs and essentials"
   ]
  },
  {
   "cell_type": "code",
   "execution_count": 251,
   "metadata": {
    "scrolled": true
   },
   "outputs": [
    {
     "name": "stdout",
     "output_type": "stream",
     "text": [
      "0/20578\n",
      "5000/20578\n",
      "10000/20578\n",
      "15000/20578\n",
      "20000/20578\n"
     ]
    }
   ],
   "source": [
    "# Create graphs for N documents\n",
    "max_w=13\n",
    "\n",
    "counts = np.zeros((len(tokenized), max_w))\n",
    "entropies = []\n",
    "cooccurences = []\n",
    "weights = []\n",
    "for i, (_, A_o, A_i) in enumerate(get_adj(tokenized, word2id)):\n",
    "    if i % 5000 == 0:\n",
    "        print('{}/{}'.format(i, len(tokenized)))\n",
    "        \n",
    "    # Graph\n",
    "    A_i.sum_duplicates()\n",
    "    A = A_i.data\n",
    "    \n",
    "    # Weight counts\n",
    "    weights.append(A)\n",
    "    bincount = np.bincount(A.astype(int))\n",
    "    for j in range(min(len(bincount), max_w)):\n",
    "        counts[i, j] = bincount[j]\n",
    "        \n",
    "    # Entropies\n",
    "    entropies.append(sp.stats.entropy((A_o + A_i).data))\n",
    "    \n",
    "    # cooccurences\n",
    "    cooccurences.append(sum(A>0))\n",
    "    \n",
    "\n",
    "# Parse data\n",
    "x = np.arange(1, max_w)\n",
    "y_mean = np.mean(counts[:,1:], axis=0)\n",
    "y_std = np.std(counts[:,1:], axis=0)"
   ]
  },
  {
   "cell_type": "markdown",
   "metadata": {},
   "source": [
    "### Stats"
   ]
  },
  {
   "cell_type": "code",
   "execution_count": 257,
   "metadata": {},
   "outputs": [
    {
     "name": "stdout",
     "output_type": "stream",
     "text": [
      "Weights MEAN: 1.10402303406\n",
      "Weights STD:  0.495527810209\n"
     ]
    }
   ],
   "source": [
    "flat_weights = [x for sublist in weights for x in sublist]\n",
    "print('Weights MEAN:', np.mean(flat_weights))\n",
    "print('Weights STD: ', np.std(flat_weights))"
   ]
  },
  {
   "cell_type": "code",
   "execution_count": 258,
   "metadata": {},
   "outputs": [
    {
     "name": "stdout",
     "output_type": "stream",
     "text": [
      "Coocurrences MEAN:  115.258625717\n",
      "Coocurrences STD:   118.801421714\n"
     ]
    }
   ],
   "source": [
    "print('Coocurrences MEAN: ', np.mean(cooccurences))\n",
    "print('Coocurrences STD:  ', np.std(cooccurences))"
   ]
  },
  {
   "cell_type": "code",
   "execution_count": 254,
   "metadata": {
    "scrolled": true
   },
   "outputs": [
    {
     "data": {
      "image/png": "[encoded data removed]",
      "text/plain": [
       "<matplotlib.figure.Figure at 0x7f5ec8688470>"
      ]
     },
     "metadata": {},
     "output_type": "display_data"
    }
   ],
   "source": [
    "sns.distplot(cooccurences)\n",
    "plt.show()"
   ]
  },
  {
   "cell_type": "markdown",
   "metadata": {},
   "source": [
    "### Plot distribution of non-zero graph weights"
   ]
  },
  {
   "cell_type": "code",
   "execution_count": 241,
   "metadata": {},
   "outputs": [
    {
     "data": {
      "image/png": "[encoded data removed]",
      "text/plain": [
       "<matplotlib.figure.Figure at 0x7f5ed2449fd0>"
      ]
     },
     "metadata": {},
     "output_type": "display_data"
    }
   ],
   "source": [
    "plt.figure(figsize=(7,5))\n",
    "plt.title('Distribution of non-zero graph weights')\n",
    "plt.xlabel('Weight')\n",
    "plt.ylabel('Average Count')\n",
    "plt.yscale('log')\n",
    "plt.errorbar(x, y_mean, yerr=y_std)\n",
    "plt.savefig('plots/dist_nonzero_graph_weights.png')\n",
    "plt.show()"
   ]
  },
  {
   "cell_type": "markdown",
   "metadata": {
    "collapsed": true
   },
   "source": [
    "### Plot distribution graph entropies "
   ]
  },
  {
   "cell_type": "code",
   "execution_count": 243,
   "metadata": {},
   "outputs": [
    {
     "data": {
      "image/png": "[encoded data removed]",
      "text/plain": [
       "<matplotlib.figure.Figure at 0x7f5ed43e2358>"
      ]
     },
     "metadata": {},
     "output_type": "display_data"
    }
   ],
   "source": [
    "plt.figure(figsize=(7,5))\n",
    "plt.title('Distribution of graph entropies')\n",
    "plt.xlabel('Entropy')\n",
    "plt.ylabel('Occurence')\n",
    "sns.distplot(entropies, bins=50)\n",
    "plt.savefig('plots/dist_graph_entropies.png')\n",
    "plt.show()"
   ]
  },
  {
   "cell_type": "markdown",
   "metadata": {
    "collapsed": true
   },
   "source": [
    "### Plot distribution of topics"
   ]
  },
  {
   "cell_type": "code",
   "execution_count": 245,
   "metadata": {},
   "outputs": [
    {
     "data": {
      "image/png": "[encoded data removed]",
      "text/plain": [
       "<matplotlib.figure.Figure at 0x7f5ed2391438>"
      ]
     },
     "metadata": {},
     "output_type": "display_data"
    }
   ],
   "source": [
    "topic_count = [len(x) for x in topics]\n",
    "plt.xlabel('# Topics per document')\n",
    "plt.ylabel('Amount of Documents')\n",
    "sns.distplot(topic_count, kde=False, )\n",
    "plt.savefig('plots/dist_topics_over_docs.png')\n",
    "plt.show()"
   ]
  },
  {
   "cell_type": "markdown",
   "metadata": {},
   "source": [
    "### Plot class imbalance"
   ]
  },
  {
   "cell_type": "code",
   "execution_count": 17,
   "metadata": {},
   "outputs": [
    {
     "name": "stdout",
     "output_type": "stream",
     "text": [
      "Counts per class: [2390   61    4   54    1  116    3   72    2    1    1   75    5    6  142\n",
      "   77    3  247    1    2   62    3    1  111    4  597    1    3    1  215\n",
      "   15 3729    3    2   27   64  163  133  613   10    2   25    1   27   19\n",
      "   18    7  493    7   65   65    7   75    8   35   17    1    2    2    3\n",
      "  111   16   49  767  186    7  128   11    3    4   14  187   29    3   42\n",
      "    2    1   40   12    4    4    6    6    3    1    8   34    1   82   27\n",
      "   66    1   48    1    2    3    3  285   37    1   35   25   25  115   21\n",
      "   32  183    2    8   15    4   15   32  538  132  298    2   32   68   44]\n"
     ]
    },
    {
     "data": {
      "image/png": "[encoded data removed]",
      "text/plain": [
       "<matplotlib.figure.Figure at 0x7f5ed5c2d8d0>"
      ]
     },
     "metadata": {},
     "output_type": "display_data"
    }
   ],
   "source": [
    "flat_topics = [item for sublist in topics for item in sublist]\n",
    "topic_i, topic_count = np.unique(flat_topics, return_counts=True)\n",
    "print('Counts per class:', topic_count)\n",
    "plt.bar(topic_i, topic_count)\n",
    "plt.savefig('plots/dist_topic_counts.png')\n",
    "plt.show()"
   ]
  },
  {
   "cell_type": "code",
   "execution_count": 41,
   "metadata": {},
   "outputs": [
    {
     "data": {
      "text/plain": [
       "9680"
      ]
     },
     "execution_count": 41,
     "metadata": {},
     "output_type": "execute_result"
    }
   ],
   "source": [
    "sum([len(x) == 0 for x in topics])"
   ]
  },
  {
   "cell_type": "code",
   "execution_count": null,
   "metadata": {
    "collapsed": true
   },
   "outputs": [],
   "source": []
  }
 ],
 "metadata": {
  "kernelspec": {
   "display_name": "Python 3",
   "language": "python",
   "name": "python3"
  },
  "language_info": {
   "codemirror_mode": {
    "name": "ipython",
    "version": 3
   },
   "file_extension": ".py",
   "mimetype": "text/x-python",
   "name": "python",
   "nbconvert_exporter": "python",
   "pygments_lexer": "ipython3",
   "version": "3.6.3"
  }
 },
 "nbformat": 4,
 "nbformat_minor": 2
}
