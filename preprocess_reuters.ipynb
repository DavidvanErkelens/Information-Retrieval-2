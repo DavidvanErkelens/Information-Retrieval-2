{
 "cells": [
  {
   "cell_type": "code",
   "execution_count": 43,
   "metadata": {
    "collapsed": true
   },
   "outputs": [],
   "source": [
    "import numpy as np\n",
    "from os import listdir\n",
    "from os.path import isfile, join\n",
    "from bs4 import BeautifulSoup\n",
    "import re\n",
    "import urllib"
   ]
  },
  {
   "cell_type": "markdown",
   "metadata": {},
   "source": [
    "### Reuters dataset Loading and Tokenizing"
   ]
  },
  {
   "cell_type": "code",
   "execution_count": 44,
   "metadata": {},
   "outputs": [
    {
     "name": "stdout",
     "output_type": "stream",
     "text": [
      "Loading reut2-000.sgm...\n",
      "Loading reut2-001.sgm...\n",
      "Loading reut2-002.sgm...\n",
      "Loading reut2-003.sgm...\n",
      "Loading reut2-004.sgm...\n",
      "Loading reut2-005.sgm...\n",
      "Loading reut2-006.sgm...\n",
      "Loading reut2-007.sgm...\n",
      "Loading reut2-008.sgm...\n",
      "Loading reut2-009.sgm...\n",
      "Loading reut2-010.sgm...\n",
      "Loading reut2-011.sgm...\n",
      "Loading reut2-012.sgm...\n",
      "Loading reut2-013.sgm...\n",
      "Loading reut2-014.sgm...\n",
      "Loading reut2-015.sgm...\n",
      "Loading reut2-016.sgm...\n",
      "Loading reut2-017.sgm...\n",
      "Loading reut2-018.sgm...\n",
      "Loading reut2-019.sgm...\n",
      "Loading reut2-020.sgm...\n",
      "Loading reut2-021.sgm...\n"
     ]
    }
   ],
   "source": [
    "# Load docs\n",
    "docs = []\n",
    "topic_str = []\n",
    "for datafile in sorted(listdir('data/reuters/')):\n",
    "    with open('data/reuters/{}'.format(datafile), 'rb') as f:\n",
    "        if datafile.endswith('.sgm'):\n",
    "            print('Loading {}...'.format(datafile))\n",
    "            soup = BeautifulSoup(f.read(), 'lxml')\n",
    "            for node in soup.findAll('text'):\n",
    "                docs.append(''.join(node.findAll(text=True)))\n",
    "            for node in soup.findAll('topics'):\n",
    "                topic_str.append(node.findAll(text=True))"
   ]
  },
  {
   "cell_type": "code",
   "execution_count": 45,
   "metadata": {
    "collapsed": true
   },
   "outputs": [],
   "source": [
    "# Preprocess topics\n",
    "with open('data/reuters/all-topics-strings.lc.txt') as f:\n",
    "    topiclist = [x.strip() for x in f.readlines()]\n",
    "topic2id = dict(zip(topiclist, np.arange(len(topiclist))))\n",
    "id2topic = {v: k for k, v in topic2id.items()}\n",
    "topics = [[topic2id[x] for x in y] for y in topic_str]"
   ]
  },
  {
   "cell_type": "code",
   "execution_count": 46,
   "metadata": {},
   "outputs": [],
   "source": [
    "# Preprocess documents\n",
    "splitted_docs = [re.sub('[^a-zA-Z]+', ' ', doc) for doc in docs]\n",
    "splitted_docs = [doc.split(' ') for doc in splitted_docs]\n",
    "splitted_docs = [[word for word in doc if word != ''] for doc in splitted_docs]\n",
    "words = [x for y in splitted_docs for x in y]\n",
    "unique_words, unique_words_c = np.unique(words, return_counts=True)"
   ]
  },
  {
   "cell_type": "code",
   "execution_count": 47,
   "metadata": {},
   "outputs": [],
   "source": [
    "_, unique_words_sort = zip(*sorted(zip(unique_words_c, unique_words), reverse=True))"
   ]
  },
  {
   "cell_type": "code",
   "execution_count": 48,
   "metadata": {
    "collapsed": true
   },
   "outputs": [],
   "source": [
    "# Tokenize\n",
    "word2id = dict(zip(unique_words_sort, np.arange(len(unique_words_sort))))\n",
    "word2id['<unk>'] = -1\n",
    "id2word = {v: k for k, v in word2id.items()}\n",
    "tokenized = [[word2id[word] if word in word2id else -1 for word in doc] for doc in splitted_docs]"
   ]
  },
  {
   "cell_type": "code",
   "execution_count": 49,
   "metadata": {
    "collapsed": true
   },
   "outputs": [],
   "source": [
    "# Save tokenized reuters\n",
    "np.save('data/reuters/reuters_topics.npy', topics)\n",
    "np.save('data/reuters/reuters_topic2id.npy', topic2id)\n",
    "np.save('data/reuters/reuters_id2topic.npy', id2topic)\n",
    "np.save('data/reuters/reuters_word2id.npy', word2id)\n",
    "np.save('data/reuters/reuters_id2word.npy', id2word)\n",
    "np.save('data/reuters/reuters_tokenized.npy', tokenized)"
   ]
  },
  {
   "cell_type": "code",
   "execution_count": 50,
   "metadata": {},
   "outputs": [],
   "source": [
    "# Load tokenized reuters\n",
    "topic2id = np.load('data/reuters/reuters_topic2id.npy').item(0)\n",
    "id2topic = np.load('data/reuters/reuters_id2topic.npy').item(0)\n",
    "topics = list(np.load('data/reuters/reuters_topics.npy'))\n",
    "\n",
    "word2id = np.load('data/reuters/reuters_word2id.npy').item(0)\n",
    "id2word = np.load('data/reuters/reuters_id2word.npy').item(0)\n",
    "tokenized = list(np.load('data/reuters/reuters_tokenized.npy'))"
   ]
  },
  {
   "cell_type": "code",
   "execution_count": 51,
   "metadata": {},
   "outputs": [
    {
     "name": "stdout",
     "output_type": "stream",
     "text": [
      "[TOPIC]\n",
      " cocoa\n",
      "\n",
      "[DOC]\n",
      " BAHIA COCOA REVIEW SALVADOR Feb Showers continued throughout the week in the Bahia cocoa zone alleviating the drought since early January and improving prospects for the coming temporao although normal humidity levels have not been restored Comissaria Smith said in its weekly review The dry period means the temporao will be late this year Arrivals for the week ended February were bags of kilos making a cumulative total for the season of mln against at the same stage last year Again it seems that cocoa delivered earlier on consignment was included in the arrivals figures Comissaria Smith said there is still some doubt as to how much old crop cocoa is still available as harvesting has practically come to an end With total Bahia crop estimates around mln bags and sales standing at almost mln there are a few hundred thousand bags still in the hands of farmers middlemen exporters and processors There are doubts as to how much of this cocoa would be fit for export as shippers are now experiencing dificulties in obtaining Bahia superior certificates In view of the lower quality over recent weeks farmers have sold a good part of their cocoa held on consignment Comissaria Smith said spot bean prices rose to to cruzados per arroba of kilos Bean shippers were reluctant to offer nearby shipment and only limited sales were booked for March shipment at to dlrs per tonne to ports to be named New crop sales were also light and all to open ports with June July going at and dlrs and at and dlrs under New York july Aug Sept at and dlrs per tonne FOB Routine sales of butter were made March April sold at and dlrs April May butter went at times New York May June July at and dlrs Aug Sept at to dlrs and at and times New York Sept and Oct Dec at dlrs and times New York Dec Comissaria Smith said Destinations were the U S Covertible currency areas Uruguay and open ports Cake sales were registered at to dlrs for March April dlrs for May dlrs for Aug and times New York Dec for Oct Dec Buyers were the U S Argentina Uruguay and convertible currency areas Liquor sales were limited with March April selling at and dlrs June July at dlrs and at times New York July Aug Sept at dlrs and at times New York Sept and Oct Dec at times New York Dec Comissaria Smith said Total Bahia sales are currently estimated at mln bags against the crop and mln bags against the crop Final figures for the period to February are expected to be published by the Brazilian Cocoa Trade Commission after carnival which ends midday on February Reuter\n"
     ]
    }
   ],
   "source": [
    "# Example document\n",
    "tokenized_doc = tokenized[0]\n",
    "regular_doc = ' '.join([id2word[x] for x in tokenized_doc])\n",
    "tokenized_topic = topics[0]\n",
    "regular_topic = ' '.join([id2topic[x] for x in tokenized_topic])\n",
    "\n",
    "print('[TOPIC]\\n', regular_topic)\n",
    "print('\\n[DOC]\\n', regular_doc)"
   ]
  },
  {
   "cell_type": "code",
   "execution_count": null,
   "metadata": {
    "collapsed": true
   },
   "outputs": [],
   "source": []
  }
 ],
 "metadata": {
  "kernelspec": {
   "display_name": "Python 3",
   "language": "python",
   "name": "python3"
  },
  "language_info": {
   "codemirror_mode": {
    "name": "ipython",
    "version": 3
   },
   "file_extension": ".py",
   "mimetype": "text/x-python",
   "name": "python",
   "nbconvert_exporter": "python",
   "pygments_lexer": "ipython3",
   "version": "3.6.3"
  }
 },
 "nbformat": 4,
 "nbformat_minor": 2
}
