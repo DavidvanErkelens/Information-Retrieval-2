{
 "cells": [
  {
   "cell_type": "code",
   "execution_count": 1,
   "metadata": {},
   "outputs": [],
   "source": [
    "import numpy as np\n",
    "from os import listdir\n",
    "from os.path import isfile, join\n",
    "from bs4 import BeautifulSoup\n",
    "import re\n",
    "import urllib"
   ]
  },
  {
   "cell_type": "markdown",
   "metadata": {},
   "source": [
    "### Reuters dataset Loading and Tokenizing"
   ]
  },
  {
   "cell_type": "code",
   "execution_count": null,
   "metadata": {},
   "outputs": [
    {
     "name": "stdout",
     "output_type": "stream",
     "text": [
      "Loading reut2-000.sgm...\n",
      "Loading reut2-001.sgm...\n",
      "Loading reut2-002.sgm...\n",
      "Loading reut2-003.sgm...\n",
      "Loading reut2-004.sgm...\n",
      "Loading reut2-005.sgm...\n",
      "Loading reut2-006.sgm...\n",
      "Loading reut2-007.sgm...\n",
      "Loading reut2-008.sgm...\n",
      "Loading reut2-009.sgm...\n",
      "Loading reut2-010.sgm...\n",
      "Loading reut2-011.sgm...\n",
      "Loading reut2-012.sgm...\n",
      "Loading reut2-013.sgm...\n",
      "Loading reut2-014.sgm...\n",
      "Loading reut2-015.sgm...\n",
      "Loading reut2-016.sgm...\n",
      "Loading reut2-017.sgm...\n"
     ]
    }
   ],
   "source": [
    "# Load docs\n",
    "docs = []\n",
    "for datafile in sorted(listdir('data/reuters/')):\n",
    "    with open('data/reuters/{}'.format(datafile), 'rb') as f:\n",
    "        if datafile.endswith('.sgm'):\n",
    "            print('Loading {}...'.format(datafile))\n",
    "            soup = BeautifulSoup(f.read(), 'lxml')\n",
    "            for node in soup.findAll('text'):\n",
    "                docs.append(''.join(node.findAll(text=True)))"
   ]
  },
  {
   "cell_type": "code",
   "execution_count": null,
   "metadata": {},
   "outputs": [],
   "source": [
    "# Preprocess documents\n",
    "splitted_docs = [re.sub('[^a-zA-Z]+', ' ', doc) for doc in docs]\n",
    "splitted_docs = [doc.split(' ') for doc in splitted_docs]\n",
    "splitted_docs = [[word for word in doc if word != ''] for doc in splitted_docs]\n",
    "words = [x for y in splitted_docs for x in y]\n",
    "unique_words = np.unique(words)"
   ]
  },
  {
   "cell_type": "code",
   "execution_count": null,
   "metadata": {},
   "outputs": [],
   "source": [
    "# Tokenize\n",
    "word2id = dict(zip(unique_words, np.arange(len(unique_words))))\n",
    "id2word = {v: k for k, v in word2id.items()}\n",
    "tokenized = [[word2id[word] for word in doc] for doc in splitted_docs]"
   ]
  },
  {
   "cell_type": "code",
   "execution_count": null,
   "metadata": {},
   "outputs": [],
   "source": [
    "# Save tokenized reuters\n",
    "np.save('data/reuters/reuters_word2id.npy', word2id)\n",
    "np.save('data/reuters/reuters_id2word.npy', id2word)\n",
    "np.save('data/reuters/reuters_tokenized.npy', tokenized)"
   ]
  },
  {
   "cell_type": "code",
   "execution_count": null,
   "metadata": {},
   "outputs": [],
   "source": [
    "# Load tokenized reuters\n",
    "word2id = np.load('data/reuters/reuters_word2id.npy').item(0)\n",
    "id2word = np.load('data/reuters/reuters_id2word.npy').item(0)\n",
    "tokenized = np.load('data/reuters/reuters_tokenized.npy')"
   ]
  },
  {
   "cell_type": "code",
   "execution_count": null,
   "metadata": {},
   "outputs": [],
   "source": [
    "# Example document\n",
    "tokenized_doc = tokenized[0]\n",
    "regular_doc = ' '.join([id2word[x] for x in tokenized_doc])\n",
    "print(regular_doc)"
   ]
  },
  {
   "cell_type": "code",
   "execution_count": null,
   "metadata": {},
   "outputs": [],
   "source": []
  },
  {
   "cell_type": "code",
   "execution_count": null,
   "metadata": {
    "collapsed": true
   },
   "outputs": [],
   "source": []
  }
 ],
 "metadata": {
  "kernelspec": {
   "display_name": "Python 3",
   "language": "python",
   "name": "python3"
  },
  "language_info": {
   "codemirror_mode": {
    "name": "ipython",
    "version": 3
   },
   "file_extension": ".py",
   "mimetype": "text/x-python",
   "name": "python",
   "nbconvert_exporter": "python",
   "pygments_lexer": "ipython3",
   "version": "3.6.3"
  }
 },
 "nbformat": 4,
 "nbformat_minor": 2
}
